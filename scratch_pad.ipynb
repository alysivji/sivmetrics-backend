{
 "cells": [
  {
   "cell_type": "code",
   "execution_count": 1,
   "metadata": {},
   "outputs": [],
   "source": [
    "# standard library\n",
    "import datetime\n",
    "import json\n",
    "import math\n",
    "import os\n",
    "\n",
    "# other libraries\n",
    "import falcon\n",
    "import maya\n",
    "import requests"
   ]
  },
  {
   "cell_type": "code",
   "execution_count": 30,
   "metadata": {},
   "outputs": [],
   "source": [
    "CTA_BASE_URL = 'http://www.ctabustracker.com/bustime/api/v2/getpredictions'\n",
    "CTA_API_KEY = os.getenv('CTA_API_KEY', None)"
   ]
  },
  {
   "cell_type": "markdown",
   "metadata": {},
   "source": [
    "---"
   ]
  },
  {
   "cell_type": "code",
   "execution_count": 3,
   "metadata": {},
   "outputs": [],
   "source": [
    "payload = {\n",
    "    'key': CTA_API_KEY,\n",
    "    'stpid': '1066',\n",
    "    'format': 'json'\n",
    "}\n",
    "\n",
    "right_now = maya.MayaDT.from_datetime(datetime.datetime.now())"
   ]
  },
  {
   "cell_type": "code",
   "execution_count": 4,
   "metadata": {},
   "outputs": [],
   "source": [
    "r = requests.get(CTA_BASE_URL, params=payload)\n",
    "upcoming_buses = r.json().get('bustime-response', None).get('prd', None)"
   ]
  },
  {
   "cell_type": "code",
   "execution_count": 5,
   "metadata": {},
   "outputs": [
    {
     "data": {
      "text/plain": [
       "[{'des': 'Union Station',\n",
       "  'dly': False,\n",
       "  'dstp': 6222,\n",
       "  'prdctdn': '8',\n",
       "  'prdtm': '20171109 15:28',\n",
       "  'rt': '151',\n",
       "  'rtdd': '151',\n",
       "  'rtdir': 'Southbound',\n",
       "  'stpid': '1066',\n",
       "  'stpnm': 'Lake Shore & Stratford',\n",
       "  'tablockid': '151 -517',\n",
       "  'tatripid': '266',\n",
       "  'tmstmp': '20171109 15:19',\n",
       "  'typ': 'A',\n",
       "  'vid': '4392',\n",
       "  'zone': ''},\n",
       " {'des': 'Museum Campus',\n",
       "  'dly': False,\n",
       "  'dstp': 7865,\n",
       "  'prdctdn': '18',\n",
       "  'prdtm': '20171109 15:38',\n",
       "  'rt': '146',\n",
       "  'rtdd': '146',\n",
       "  'rtdir': 'Southbound',\n",
       "  'stpid': '1066',\n",
       "  'stpnm': 'Lake Shore & Stratford',\n",
       "  'tablockid': '146 -522',\n",
       "  'tatripid': '2196',\n",
       "  'tmstmp': '20171109 15:16',\n",
       "  'typ': 'A',\n",
       "  'vid': '4387',\n",
       "  'zone': ''},\n",
       " {'des': 'Union Station',\n",
       "  'dly': False,\n",
       "  'dstp': 16463,\n",
       "  'prdctdn': '25',\n",
       "  'prdtm': '20171109 15:45',\n",
       "  'rt': '151',\n",
       "  'rtdd': '151',\n",
       "  'rtdir': 'Southbound',\n",
       "  'stpid': '1066',\n",
       "  'stpnm': 'Lake Shore & Stratford',\n",
       "  'tablockid': '151 -527',\n",
       "  'tatripid': '268',\n",
       "  'tmstmp': '20171109 15:20',\n",
       "  'typ': 'A',\n",
       "  'vid': '4126',\n",
       "  'zone': ''},\n",
       " {'des': 'Museum Campus',\n",
       "  'dly': False,\n",
       "  'dstp': 14124,\n",
       "  'prdctdn': '28',\n",
       "  'prdtm': '20171109 15:48',\n",
       "  'rt': '146',\n",
       "  'rtdd': '146',\n",
       "  'rtdir': 'Southbound',\n",
       "  'stpid': '1066',\n",
       "  'stpnm': 'Lake Shore & Stratford',\n",
       "  'tablockid': '146 -506',\n",
       "  'tatripid': '1997',\n",
       "  'tmstmp': '20171109 15:20',\n",
       "  'typ': 'A',\n",
       "  'vid': '4377',\n",
       "  'zone': ''}]"
      ]
     },
     "execution_count": 5,
     "metadata": {},
     "output_type": "execute_result"
    }
   ],
   "source": [
    "upcoming_buses"
   ]
  },
  {
   "cell_type": "code",
   "execution_count": 6,
   "metadata": {},
   "outputs": [],
   "source": [
    "cleaned_results = []\n",
    "for bus in upcoming_buses:\n",
    "    predicted_time = maya.parse(bus['prdtm'])\n",
    "    min_till_next_bus = (predicted_time.epoch - right_now.epoch) / 60\n",
    "    \n",
    "    bus_to_add = {}\n",
    "    bus_to_add['bus'] = bus['rt']\n",
    "    bus_to_add['min_away'] = math.floor(min_till_next_bus)\n",
    "    cleaned_results.append(bus_to_add)"
   ]
  },
  {
   "cell_type": "code",
   "execution_count": 7,
   "metadata": {},
   "outputs": [
    {
     "data": {
      "text/plain": [
       "[{'bus': '151', 'min_away': 7},\n",
       " {'bus': '146', 'min_away': 17},\n",
       " {'bus': '151', 'min_away': 24},\n",
       " {'bus': '146', 'min_away': 27}]"
      ]
     },
     "execution_count": 7,
     "metadata": {},
     "output_type": "execute_result"
    }
   ],
   "source": [
    "cleaned_results"
   ]
  },
  {
   "cell_type": "markdown",
   "metadata": {},
   "source": [
    "---"
   ]
  },
  {
   "cell_type": "code",
   "execution_count": 8,
   "metadata": {},
   "outputs": [
    {
     "data": {
      "text/plain": [
       "b'[{\"bus\": \"151\", \"min_away\": 7}, {\"bus\": \"146\", \"min_away\": 17}, {\"bus\": \"151\", \"min_away\": 24}, {\"bus\": \"146\", \"min_away\": 27}]'"
      ]
     },
     "execution_count": 8,
     "metadata": {},
     "output_type": "execute_result"
    }
   ],
   "source": [
    "json.dumps(cleaned_results, ensure_ascii=False).encode('utf-8')"
   ]
  },
  {
   "cell_type": "code",
   "execution_count": null,
   "metadata": {},
   "outputs": [],
   "source": []
  },
  {
   "cell_type": "code",
   "execution_count": 31,
   "metadata": {},
   "outputs": [],
   "source": [
    "payload = {\n",
    "    'key': CTA_API_KEY,\n",
    "    'stpid': '10661',\n",
    "    'format': 'json'\n",
    "}\n",
    "\n",
    "right_now = maya.MayaDT.from_datetime(datetime.datetime.now())\n",
    "\n",
    "r = requests.get(CTA_BASE_URL+'1', params=payload)\n",
    "upcoming_buses = r.json().get('bustime-response', None)\n",
    "\n",
    "if upcoming_buses:\n",
    "    upcoming_buses = upcoming_buses.get('prd', None)"
   ]
  },
  {
   "cell_type": "code",
   "execution_count": 26,
   "metadata": {},
   "outputs": [],
   "source": [
    "upcoming_buses"
   ]
  },
  {
   "cell_type": "code",
   "execution_count": 27,
   "metadata": {},
   "outputs": [
    {
     "data": {
      "text/plain": [
       "{'bustime-response': {'error': [{'msg': 'Unsupported function'}]}}"
      ]
     },
     "execution_count": 27,
     "metadata": {},
     "output_type": "execute_result"
    }
   ],
   "source": [
    "r.json()"
   ]
  },
  {
   "cell_type": "code",
   "execution_count": 32,
   "metadata": {},
   "outputs": [],
   "source": [
    "        cleaned_results = []\n",
    "        if upcoming_buses:\n",
    "            for bus in upcoming_buses:\n",
    "                predicted_time = maya.parse(bus['prdtm'])\n",
    "                min_till_next_bus = (predicted_time.epoch - right_now.epoch) / 60\n",
    "\n",
    "                bus_to_add = {}\n",
    "                bus_to_add['bus'] = bus['rt']\n",
    "                bus_to_add['min_away'] = math.floor(min_till_next_bus)\n",
    "                cleaned_results.append(bus_to_add)"
   ]
  },
  {
   "cell_type": "code",
   "execution_count": null,
   "metadata": {},
   "outputs": [],
   "source": []
  },
  {
   "cell_type": "code",
   "execution_count": null,
   "metadata": {},
   "outputs": [],
   "source": []
  },
  {
   "cell_type": "code",
   "execution_count": null,
   "metadata": {},
   "outputs": [],
   "source": []
  },
  {
   "cell_type": "code",
   "execution_count": null,
   "metadata": {},
   "outputs": [],
   "source": []
  },
  {
   "cell_type": "code",
   "execution_count": null,
   "metadata": {},
   "outputs": [],
   "source": []
  },
  {
   "cell_type": "code",
   "execution_count": null,
   "metadata": {},
   "outputs": [],
   "source": []
  },
  {
   "cell_type": "code",
   "execution_count": null,
   "metadata": {},
   "outputs": [],
   "source": []
  },
  {
   "cell_type": "code",
   "execution_count": null,
   "metadata": {},
   "outputs": [],
   "source": []
  },
  {
   "cell_type": "code",
   "execution_count": null,
   "metadata": {},
   "outputs": [],
   "source": []
  },
  {
   "cell_type": "code",
   "execution_count": null,
   "metadata": {},
   "outputs": [],
   "source": []
  }
 ],
 "metadata": {
  "kernelspec": {
   "display_name": "Python 3",
   "language": "python",
   "name": "python3"
  },
  "language_info": {
   "codemirror_mode": {
    "name": "ipython",
    "version": 3
   },
   "file_extension": ".py",
   "mimetype": "text/x-python",
   "name": "python",
   "nbconvert_exporter": "python",
   "pygments_lexer": "ipython3",
   "version": "3.6.2"
  }
 },
 "nbformat": 4,
 "nbformat_minor": 2
}
