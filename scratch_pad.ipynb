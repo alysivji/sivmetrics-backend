{
 "cells": [
  {
   "cell_type": "code",
   "execution_count": 20,
   "metadata": {
    "collapsed": true
   },
   "outputs": [],
   "source": [
    "# standard library\n",
    "import datetime\n",
    "import json\n",
    "import math\n",
    "import os\n",
    "\n",
    "# other libraries\n",
    "import falcon\n",
    "import maya\n",
    "import requests"
   ]
  },
  {
   "cell_type": "code",
   "execution_count": 21,
   "metadata": {
    "collapsed": true
   },
   "outputs": [],
   "source": [
    "CTA_BASE_URL = 'http://www.ctabustracker.com/bustime/api/v2/getpredictions'\n",
    "CTA_API_KEY = os.getenv('CTA_API_KEY', None)"
   ]
  },
  {
   "cell_type": "markdown",
   "metadata": {},
   "source": [
    "---"
   ]
  },
  {
   "cell_type": "code",
   "execution_count": 22,
   "metadata": {
    "collapsed": true
   },
   "outputs": [],
   "source": [
    "payload = {\n",
    "    'key': CTA_API_KEY,\n",
    "    'stpid': '1066',\n",
    "    'format': 'json'\n",
    "}\n",
    "\n",
    "right_now = maya.MayaDT.from_datetime(datetime.datetime.now())"
   ]
  },
  {
   "cell_type": "code",
   "execution_count": 23,
   "metadata": {
    "collapsed": true
   },
   "outputs": [],
   "source": [
    "r = requests.get(CTA_BASE_URL, params=payload)\n",
    "upcoming_buses = r.json().get('bustime-response', None).get('prd', None)"
   ]
  },
  {
   "cell_type": "code",
   "execution_count": 24,
   "metadata": {},
   "outputs": [
    {
     "data": {
      "text/plain": [
       "requests.models.Response"
      ]
     },
     "execution_count": 24,
     "metadata": {},
     "output_type": "execute_result"
    }
   ],
   "source": [
    "type(r)"
   ]
  },
  {
   "cell_type": "code",
   "execution_count": 25,
   "metadata": {},
   "outputs": [
    {
     "data": {
      "text/plain": [
       "dict"
      ]
     },
     "execution_count": 25,
     "metadata": {},
     "output_type": "execute_result"
    }
   ],
   "source": [
    "type(r.json())"
   ]
  },
  {
   "cell_type": "code",
   "execution_count": 26,
   "metadata": {},
   "outputs": [
    {
     "data": {
      "text/plain": [
       "[{'des': 'Union Station',\n",
       "  'dly': False,\n",
       "  'dstp': 12594,\n",
       "  'prdctdn': '14',\n",
       "  'prdtm': '20171111 23:23',\n",
       "  'rt': '151',\n",
       "  'rtdd': '151',\n",
       "  'rtdir': 'Southbound',\n",
       "  'stpid': '1066',\n",
       "  'stpnm': 'Lake Shore & Stratford',\n",
       "  'tablockid': '151 -551',\n",
       "  'tatripid': '132',\n",
       "  'tmstmp': '20171111 23:08',\n",
       "  'typ': 'A',\n",
       "  'vid': '4398',\n",
       "  'zone': ''}]"
      ]
     },
     "execution_count": 26,
     "metadata": {},
     "output_type": "execute_result"
    }
   ],
   "source": [
    "upcoming_buses"
   ]
  },
  {
   "cell_type": "code",
   "execution_count": 27,
   "metadata": {
    "collapsed": true
   },
   "outputs": [],
   "source": [
    "cleaned_results = []\n",
    "for bus in upcoming_buses:\n",
    "    predicted_time = maya.parse(bus['prdtm'])\n",
    "    min_till_next_bus = (predicted_time.epoch - right_now.epoch) / 60\n",
    "    \n",
    "    bus_to_add = {}\n",
    "    bus_to_add['bus'] = bus['rt']\n",
    "    bus_to_add['min_away'] = math.floor(min_till_next_bus)\n",
    "    cleaned_results.append(bus_to_add)"
   ]
  },
  {
   "cell_type": "code",
   "execution_count": 28,
   "metadata": {},
   "outputs": [
    {
     "data": {
      "text/plain": [
       "[{'bus': '151', 'min_away': 13}]"
      ]
     },
     "execution_count": 28,
     "metadata": {},
     "output_type": "execute_result"
    }
   ],
   "source": [
    "cleaned_results"
   ]
  },
  {
   "cell_type": "markdown",
   "metadata": {},
   "source": [
    "---"
   ]
  },
  {
   "cell_type": "code",
   "execution_count": 29,
   "metadata": {},
   "outputs": [
    {
     "data": {
      "text/plain": [
       "b'[{\"bus\": \"151\", \"min_away\": 13}]'"
      ]
     },
     "execution_count": 29,
     "metadata": {},
     "output_type": "execute_result"
    }
   ],
   "source": [
    "json.dumps(cleaned_results, ensure_ascii=False).encode('utf-8')"
   ]
  },
  {
   "cell_type": "code",
   "execution_count": null,
   "metadata": {
    "collapsed": true
   },
   "outputs": [],
   "source": []
  },
  {
   "cell_type": "code",
   "execution_count": 31,
   "metadata": {
    "collapsed": true
   },
   "outputs": [],
   "source": [
    "payload = {\n",
    "    'key': CTA_API_KEY,\n",
    "    'stpid': '10661',\n",
    "    'format': 'json'\n",
    "}\n",
    "\n",
    "right_now = maya.MayaDT.from_datetime(datetime.datetime.now())\n",
    "\n",
    "r = requests.get(CTA_BASE_URL+'1', params=payload)\n",
    "upcoming_buses = r.json().get('bustime-response', None)\n",
    "\n",
    "if upcoming_buses:\n",
    "    upcoming_buses = upcoming_buses.get('prd', None)"
   ]
  },
  {
   "cell_type": "code",
   "execution_count": null,
   "metadata": {
    "collapsed": true
   },
   "outputs": [],
   "source": []
  },
  {
   "cell_type": "code",
   "execution_count": 35,
   "metadata": {},
   "outputs": [
    {
     "data": {
      "text/plain": [
       "datetime.datetime(2017, 11, 11, 23, 11, 17, 691255)"
      ]
     },
     "execution_count": 35,
     "metadata": {},
     "output_type": "execute_result"
    }
   ],
   "source": [
    "datetime.datetime.now()"
   ]
  },
  {
   "cell_type": "code",
   "execution_count": 26,
   "metadata": {
    "collapsed": true
   },
   "outputs": [],
   "source": [
    "upcoming_buses"
   ]
  },
  {
   "cell_type": "code",
   "execution_count": 27,
   "metadata": {},
   "outputs": [
    {
     "data": {
      "text/plain": [
       "{'bustime-response': {'error': [{'msg': 'Unsupported function'}]}}"
      ]
     },
     "execution_count": 27,
     "metadata": {},
     "output_type": "execute_result"
    }
   ],
   "source": [
    "r.json()"
   ]
  },
  {
   "cell_type": "code",
   "execution_count": 32,
   "metadata": {
    "collapsed": true
   },
   "outputs": [],
   "source": [
    "        cleaned_results = []\n",
    "        if upcoming_buses:\n",
    "            for bus in upcoming_buses:\n",
    "                predicted_time = maya.parse(bus['prdtm'])\n",
    "                min_till_next_bus = (predicted_time.epoch - right_now.epoch) / 60\n",
    "\n",
    "                bus_to_add = {}\n",
    "                bus_to_add['bus'] = bus['rt']\n",
    "                bus_to_add['min_away'] = math.floor(min_till_next_bus)\n",
    "                cleaned_results.append(bus_to_add)"
   ]
  },
  {
   "cell_type": "code",
   "execution_count": null,
   "metadata": {
    "collapsed": true
   },
   "outputs": [],
   "source": []
  },
  {
   "cell_type": "code",
   "execution_count": null,
   "metadata": {
    "collapsed": true
   },
   "outputs": [],
   "source": []
  },
  {
   "cell_type": "code",
   "execution_count": null,
   "metadata": {
    "collapsed": true
   },
   "outputs": [],
   "source": []
  },
  {
   "cell_type": "code",
   "execution_count": null,
   "metadata": {
    "collapsed": true
   },
   "outputs": [],
   "source": []
  },
  {
   "cell_type": "code",
   "execution_count": 1,
   "metadata": {
    "collapsed": true
   },
   "outputs": [],
   "source": [
    "import json"
   ]
  },
  {
   "cell_type": "code",
   "execution_count": 2,
   "metadata": {
    "collapsed": true
   },
   "outputs": [],
   "source": [
    "    fake_data = [\n",
    "        {\n",
    "            'des': 'Union Station',\n",
    "            'dly': False,\n",
    "            'dstp': 6222,\n",
    "            'prdctdn': '8',\n",
    "            'prdtm': '20171109 15:28',\n",
    "            'rt': '151',\n",
    "            'rtdd': '151',\n",
    "            'rtdir': 'Southbound',\n",
    "            'stpid': '1066',\n",
    "            'stpnm': 'Lake Shore & Stratford',\n",
    "            'tablockid': '151 -517',\n",
    "            'tatripid': '266',\n",
    "            'tmstmp': '20171109 15:19',\n",
    "            'typ': 'A',\n",
    "            'vid': '4392',\n",
    "            'zone': ''\n",
    "        },\n",
    "        {\n",
    "            'des': 'Museum Campus',\n",
    "            'dly': False,\n",
    "            'dstp': 7865,\n",
    "            'prdctdn': '18',\n",
    "            'prdtm': '20171109 15:38',\n",
    "            'rt': '146',\n",
    "            'rtdd': '146',\n",
    "            'rtdir': 'Southbound',\n",
    "            'stpid': '1066',\n",
    "            'stpnm': 'Lake Shore & Stratford',\n",
    "            'tablockid': '146 -522',\n",
    "            'tatripid': '2196',\n",
    "            'tmstmp': '20171109 15:16',\n",
    "            'typ': 'A',\n",
    "            'vid': '4387',\n",
    "            'zone': ''\n",
    "        }\n",
    "    ]"
   ]
  },
  {
   "cell_type": "code",
   "execution_count": 4,
   "metadata": {},
   "outputs": [
    {
     "data": {
      "text/plain": [
       "'[{\"des\": \"Union Station\", \"dly\": false, \"dstp\": 6222, \"prdctdn\": \"8\", \"prdtm\": \"20171109 15:28\", \"rt\": \"151\", \"rtdd\": \"151\", \"rtdir\": \"Southbound\", \"stpid\": \"1066\", \"stpnm\": \"Lake Shore & Stratford\", \"tablockid\": \"151 -517\", \"tatripid\": \"266\", \"tmstmp\": \"20171109 15:19\", \"typ\": \"A\", \"vid\": \"4392\", \"zone\": \"\"}, {\"des\": \"Museum Campus\", \"dly\": false, \"dstp\": 7865, \"prdctdn\": \"18\", \"prdtm\": \"20171109 15:38\", \"rt\": \"146\", \"rtdd\": \"146\", \"rtdir\": \"Southbound\", \"stpid\": \"1066\", \"stpnm\": \"Lake Shore & Stratford\", \"tablockid\": \"146 -522\", \"tatripid\": \"2196\", \"tmstmp\": \"20171109 15:16\", \"typ\": \"A\", \"vid\": \"4387\", \"zone\": \"\"}]'"
      ]
     },
     "execution_count": 4,
     "metadata": {},
     "output_type": "execute_result"
    }
   ],
   "source": [
    "json.dumps(fake_data)"
   ]
  },
  {
   "cell_type": "code",
   "execution_count": null,
   "metadata": {
    "collapsed": true
   },
   "outputs": [],
   "source": []
  },
  {
   "cell_type": "code",
   "execution_count": 1,
   "metadata": {
    "collapsed": true
   },
   "outputs": [],
   "source": [
    "from unittest.mock import MagicMock"
   ]
  },
  {
   "cell_type": "code",
   "execution_count": 2,
   "metadata": {
    "collapsed": true
   },
   "outputs": [],
   "source": [
    "mock_obj = MagicMock()"
   ]
  },
  {
   "cell_type": "code",
   "execution_count": 4,
   "metadata": {},
   "outputs": [
    {
     "data": {
      "text/plain": [
       "<MagicMock name='mock()' id='4340178056'>"
      ]
     },
     "execution_count": 4,
     "metadata": {},
     "output_type": "execute_result"
    }
   ],
   "source": [
    "mock_obj(url='http', params={'a': 'b', 'c': 'd'})"
   ]
  },
  {
   "cell_type": "code",
   "execution_count": 37,
   "metadata": {},
   "outputs": [
    {
     "data": {
      "text/plain": [
       "call(params={'a': 'b', 'c': 'd'}, url='http')"
      ]
     },
     "execution_count": 37,
     "metadata": {},
     "output_type": "execute_result"
    }
   ],
   "source": [
    "mock_obj.call_args"
   ]
  },
  {
   "cell_type": "code",
   "execution_count": 27,
   "metadata": {},
   "outputs": [
    {
     "data": {
      "text/plain": [
       "unittest.mock._Call"
      ]
     },
     "execution_count": 27,
     "metadata": {},
     "output_type": "execute_result"
    }
   ],
   "source": [
    "type(x)"
   ]
  },
  {
   "cell_type": "code",
   "execution_count": 29,
   "metadata": {},
   "outputs": [],
   "source": [
    "args, kwargs = mock_obj.call_args_list[0]"
   ]
  },
  {
   "cell_type": "code",
   "execution_count": 40,
   "metadata": {},
   "outputs": [
    {
     "data": {
      "text/plain": [
       "dict_items([('a', 'b'), ('c', 'd')])"
      ]
     },
     "execution_count": 40,
     "metadata": {},
     "output_type": "execute_result"
    }
   ],
   "source": [
    "kwargs['params'].items()"
   ]
  },
  {
   "cell_type": "code",
   "execution_count": 43,
   "metadata": {},
   "outputs": [],
   "source": [
    "assert ('a', 'b') in kwargs['params'].items()"
   ]
  },
  {
   "cell_type": "code",
   "execution_count": 44,
   "metadata": {
    "collapsed": true
   },
   "outputs": [],
   "source": [
    "assert ('c', 'd') in kwargs['params'].items()"
   ]
  },
  {
   "cell_type": "code",
   "execution_count": null,
   "metadata": {
    "collapsed": true
   },
   "outputs": [],
   "source": []
  }
 ],
 "metadata": {
  "kernelspec": {
   "display_name": "Python 3",
   "language": "python",
   "name": "python3"
  },
  "language_info": {
   "codemirror_mode": {
    "name": "ipython",
    "version": 3
   },
   "file_extension": ".py",
   "mimetype": "text/x-python",
   "name": "python",
   "nbconvert_exporter": "python",
   "pygments_lexer": "ipython3",
   "version": "3.6.1"
  }
 },
 "nbformat": 4,
 "nbformat_minor": 2
}
