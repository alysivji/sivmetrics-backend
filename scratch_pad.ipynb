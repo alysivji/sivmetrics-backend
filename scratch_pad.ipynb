{
 "cells": [
  {
   "cell_type": "code",
   "execution_count": 100,
   "metadata": {},
   "outputs": [],
   "source": [
    "# standard library\n",
    "import datetime\n",
    "import json\n",
    "import math\n",
    "import os\n",
    "\n",
    "# other libraries\n",
    "import falcon\n",
    "import maya\n",
    "import requests"
   ]
  },
  {
   "cell_type": "code",
   "execution_count": 101,
   "metadata": {},
   "outputs": [],
   "source": [
    "CTA_BASE_URL = 'http://www.ctabustracker.com/bustime/api/v2/getpredictions'\n",
    "CTA_API_KEY = os.getenv('CTA_API_KEY', None)"
   ]
  },
  {
   "cell_type": "markdown",
   "metadata": {},
   "source": [
    "---"
   ]
  },
  {
   "cell_type": "code",
   "execution_count": 102,
   "metadata": {},
   "outputs": [],
   "source": [
    "payload = {\n",
    "    'key': CTA_API_KEY,\n",
    "    'stpid': '1066',\n",
    "    'format': 'json'\n",
    "}\n",
    "\n",
    "right_now = maya.MayaDT.from_datetime(datetime.datetime.now())"
   ]
  },
  {
   "cell_type": "code",
   "execution_count": 103,
   "metadata": {},
   "outputs": [],
   "source": [
    "r = requests.get(CTA_BASE_URL, params=payload)\n",
    "upcoming_buses = r.json().get('bustime-response', None).get('prd', None)"
   ]
  },
  {
   "cell_type": "code",
   "execution_count": 104,
   "metadata": {},
   "outputs": [
    {
     "data": {
      "text/plain": [
       "requests.models.Response"
      ]
     },
     "execution_count": 104,
     "metadata": {},
     "output_type": "execute_result"
    }
   ],
   "source": [
    "type(r)"
   ]
  },
  {
   "cell_type": "code",
   "execution_count": 105,
   "metadata": {},
   "outputs": [
    {
     "data": {
      "text/plain": [
       "dict"
      ]
     },
     "execution_count": 105,
     "metadata": {},
     "output_type": "execute_result"
    }
   ],
   "source": [
    "type(r.json())"
   ]
  },
  {
   "cell_type": "code",
   "execution_count": 106,
   "metadata": {},
   "outputs": [
    {
     "data": {
      "text/plain": [
       "[{'des': 'Museum Campus',\n",
       "  'dly': False,\n",
       "  'dstp': 1129,\n",
       "  'prdctdn': '2',\n",
       "  'prdtm': '20171114 15:59',\n",
       "  'rt': '146',\n",
       "  'rtdd': '146',\n",
       "  'rtdir': 'Southbound',\n",
       "  'stpid': '1066',\n",
       "  'stpnm': 'Lake Shore & Stratford',\n",
       "  'tablockid': '146 -514',\n",
       "  'tatripid': '2197',\n",
       "  'tmstmp': '20171114 15:56',\n",
       "  'typ': 'A',\n",
       "  'vid': '4367',\n",
       "  'zone': ''},\n",
       " {'des': 'Union Station',\n",
       "  'dly': False,\n",
       "  'dstp': 7702,\n",
       "  'prdctdn': '9',\n",
       "  'prdtm': '20171114 16:06',\n",
       "  'rt': '151',\n",
       "  'rtdd': '151',\n",
       "  'rtdir': 'Southbound',\n",
       "  'stpid': '1066',\n",
       "  'stpnm': 'Lake Shore & Stratford',\n",
       "  'tablockid': '151 -519',\n",
       "  'tatripid': '315',\n",
       "  'tmstmp': '20171114 15:55',\n",
       "  'typ': 'A',\n",
       "  'vid': '4330',\n",
       "  'zone': ''},\n",
       " {'des': 'Museum Campus',\n",
       "  'dly': False,\n",
       "  'dstp': 8836,\n",
       "  'prdctdn': '12',\n",
       "  'prdtm': '20171114 16:10',\n",
       "  'rt': '146',\n",
       "  'rtdd': '146',\n",
       "  'rtdir': 'Southbound',\n",
       "  'stpid': '1066',\n",
       "  'stpnm': 'Lake Shore & Stratford',\n",
       "  'tablockid': '146 -505',\n",
       "  'tatripid': '1999',\n",
       "  'tmstmp': '20171114 15:57',\n",
       "  'typ': 'A',\n",
       "  'vid': '4130',\n",
       "  'zone': ''},\n",
       " {'des': 'Museum Campus',\n",
       "  'dly': True,\n",
       "  'dstp': 14241,\n",
       "  'prdctdn': 'DLY',\n",
       "  'prdtm': '20171114 16:19',\n",
       "  'rt': '146',\n",
       "  'rtdd': '146',\n",
       "  'rtdir': 'Southbound',\n",
       "  'stpid': '1066',\n",
       "  'stpnm': 'Lake Shore & Stratford',\n",
       "  'tablockid': '146 -552',\n",
       "  'tatripid': '10000067',\n",
       "  'tmstmp': '20171114 15:56',\n",
       "  'typ': 'A',\n",
       "  'vid': '4165',\n",
       "  'zone': ''}]"
      ]
     },
     "execution_count": 106,
     "metadata": {},
     "output_type": "execute_result"
    }
   ],
   "source": [
    "upcoming_buses"
   ]
  },
  {
   "cell_type": "code",
   "execution_count": 107,
   "metadata": {},
   "outputs": [
    {
     "data": {
      "text/plain": [
       "{'bustime-response': {'prd': [{'des': 'Museum Campus',\n",
       "    'dly': False,\n",
       "    'dstp': 1129,\n",
       "    'prdctdn': '2',\n",
       "    'prdtm': '20171114 15:59',\n",
       "    'rt': '146',\n",
       "    'rtdd': '146',\n",
       "    'rtdir': 'Southbound',\n",
       "    'stpid': '1066',\n",
       "    'stpnm': 'Lake Shore & Stratford',\n",
       "    'tablockid': '146 -514',\n",
       "    'tatripid': '2197',\n",
       "    'tmstmp': '20171114 15:56',\n",
       "    'typ': 'A',\n",
       "    'vid': '4367',\n",
       "    'zone': ''},\n",
       "   {'des': 'Union Station',\n",
       "    'dly': False,\n",
       "    'dstp': 7702,\n",
       "    'prdctdn': '9',\n",
       "    'prdtm': '20171114 16:06',\n",
       "    'rt': '151',\n",
       "    'rtdd': '151',\n",
       "    'rtdir': 'Southbound',\n",
       "    'stpid': '1066',\n",
       "    'stpnm': 'Lake Shore & Stratford',\n",
       "    'tablockid': '151 -519',\n",
       "    'tatripid': '315',\n",
       "    'tmstmp': '20171114 15:55',\n",
       "    'typ': 'A',\n",
       "    'vid': '4330',\n",
       "    'zone': ''},\n",
       "   {'des': 'Museum Campus',\n",
       "    'dly': False,\n",
       "    'dstp': 8836,\n",
       "    'prdctdn': '12',\n",
       "    'prdtm': '20171114 16:10',\n",
       "    'rt': '146',\n",
       "    'rtdd': '146',\n",
       "    'rtdir': 'Southbound',\n",
       "    'stpid': '1066',\n",
       "    'stpnm': 'Lake Shore & Stratford',\n",
       "    'tablockid': '146 -505',\n",
       "    'tatripid': '1999',\n",
       "    'tmstmp': '20171114 15:57',\n",
       "    'typ': 'A',\n",
       "    'vid': '4130',\n",
       "    'zone': ''},\n",
       "   {'des': 'Museum Campus',\n",
       "    'dly': True,\n",
       "    'dstp': 14241,\n",
       "    'prdctdn': 'DLY',\n",
       "    'prdtm': '20171114 16:19',\n",
       "    'rt': '146',\n",
       "    'rtdd': '146',\n",
       "    'rtdir': 'Southbound',\n",
       "    'stpid': '1066',\n",
       "    'stpnm': 'Lake Shore & Stratford',\n",
       "    'tablockid': '146 -552',\n",
       "    'tatripid': '10000067',\n",
       "    'tmstmp': '20171114 15:56',\n",
       "    'typ': 'A',\n",
       "    'vid': '4165',\n",
       "    'zone': ''}]}}"
      ]
     },
     "execution_count": 107,
     "metadata": {},
     "output_type": "execute_result"
    }
   ],
   "source": [
    "r.json()"
   ]
  },
  {
   "cell_type": "code",
   "execution_count": 109,
   "metadata": {},
   "outputs": [],
   "source": [
    "with open('cta_success_fake_response.json', 'w') as outfile:\n",
    "    json.dump(r.json(), outfile)"
   ]
  },
  {
   "cell_type": "code",
   "execution_count": 110,
   "metadata": {},
   "outputs": [],
   "source": [
    "with open('cta_success_fake_response.json', 'r') as outfile:\n",
    "    x = json.load(outfile)"
   ]
  },
  {
   "cell_type": "code",
   "execution_count": 112,
   "metadata": {},
   "outputs": [
    {
     "data": {
      "text/plain": [
       "True"
      ]
     },
     "execution_count": 112,
     "metadata": {},
     "output_type": "execute_result"
    }
   ],
   "source": [
    "x == r.json()"
   ]
  },
  {
   "cell_type": "code",
   "execution_count": 126,
   "metadata": {},
   "outputs": [],
   "source": [
    "upcoming_buses = x.get('bustime-response', None).get('prd', None)"
   ]
  },
  {
   "cell_type": "code",
   "execution_count": 127,
   "metadata": {},
   "outputs": [],
   "source": [
    "cleaned_results = []\n",
    "for bus in upcoming_buses:\n",
    "    predicted_time = maya.parse(bus['prdtm'])\n",
    "    min_till_next_bus = (predicted_time.epoch - right_now.epoch) / 60\n",
    "    \n",
    "    bus_to_add = {}\n",
    "    bus_to_add['bus'] = bus['rt']\n",
    "    bus_to_add['min_away'] = math.floor(min_till_next_bus)\n",
    "    cleaned_results.append(bus_to_add)"
   ]
  },
  {
   "cell_type": "code",
   "execution_count": 128,
   "metadata": {},
   "outputs": [
    {
     "data": {
      "text/plain": [
       "[{'bus': '146', 'min_away': -11},\n",
       " {'bus': '151', 'min_away': -4},\n",
       " {'bus': '146', 'min_away': 0},\n",
       " {'bus': '146', 'min_away': 9}]"
      ]
     },
     "execution_count": 128,
     "metadata": {},
     "output_type": "execute_result"
    }
   ],
   "source": [
    "cleaned_results"
   ]
  },
  {
   "cell_type": "markdown",
   "metadata": {},
   "source": [
    "---"
   ]
  },
  {
   "cell_type": "code",
   "execution_count": 58,
   "metadata": {},
   "outputs": [
    {
     "data": {
      "text/plain": [
       "b'[{\"bus\": \"146\", \"min_away\": 1}, {\"bus\": \"146\", \"min_away\": 11}, {\"bus\": \"151\", \"min_away\": 15}, {\"bus\": \"146\", \"min_away\": 21}]'"
      ]
     },
     "execution_count": 58,
     "metadata": {},
     "output_type": "execute_result"
    }
   ],
   "source": [
    "json.dumps(cleaned_results, ensure_ascii=False).encode('utf-8')"
   ]
  },
  {
   "cell_type": "code",
   "execution_count": null,
   "metadata": {},
   "outputs": [],
   "source": []
  },
  {
   "cell_type": "code",
   "execution_count": 59,
   "metadata": {},
   "outputs": [],
   "source": [
    "payload = {\n",
    "    'key': CTA_API_KEY,\n",
    "    'stpid': '10661',\n",
    "    'format': 'json'\n",
    "}\n",
    "\n",
    "right_now = maya.MayaDT.from_datetime(datetime.datetime.now())\n",
    "\n",
    "r = requests.get(CTA_BASE_URL+'1', params=payload)\n",
    "upcoming_buses = r.json().get('bustime-response', None)\n",
    "\n",
    "if upcoming_buses:\n",
    "    upcoming_buses = upcoming_buses.get('prd', None)"
   ]
  },
  {
   "cell_type": "code",
   "execution_count": null,
   "metadata": {},
   "outputs": [],
   "source": []
  },
  {
   "cell_type": "code",
   "execution_count": 60,
   "metadata": {},
   "outputs": [
    {
     "data": {
      "text/plain": [
       "datetime.datetime(2017, 11, 14, 11, 59, 14, 729343)"
      ]
     },
     "execution_count": 60,
     "metadata": {},
     "output_type": "execute_result"
    }
   ],
   "source": [
    "datetime.datetime.now()"
   ]
  },
  {
   "cell_type": "code",
   "execution_count": 61,
   "metadata": {},
   "outputs": [],
   "source": [
    "upcoming_buses"
   ]
  },
  {
   "cell_type": "code",
   "execution_count": 62,
   "metadata": {},
   "outputs": [
    {
     "data": {
      "text/plain": [
       "{'bustime-response': {'error': [{'msg': 'Unsupported function'}]}}"
      ]
     },
     "execution_count": 62,
     "metadata": {},
     "output_type": "execute_result"
    }
   ],
   "source": [
    "r.json()"
   ]
  },
  {
   "cell_type": "code",
   "execution_count": 63,
   "metadata": {},
   "outputs": [],
   "source": [
    "        cleaned_results = []\n",
    "        if upcoming_buses:\n",
    "            for bus in upcoming_buses:\n",
    "                predicted_time = maya.parse(bus['prdtm'])\n",
    "                min_till_next_bus = (predicted_time.epoch - right_now.epoch) / 60\n",
    "\n",
    "                bus_to_add = {}\n",
    "                bus_to_add['bus'] = bus['rt']\n",
    "                bus_to_add['min_away'] = math.floor(min_till_next_bus)\n",
    "                cleaned_results.append(bus_to_add)"
   ]
  },
  {
   "cell_type": "code",
   "execution_count": null,
   "metadata": {},
   "outputs": [],
   "source": []
  },
  {
   "cell_type": "code",
   "execution_count": null,
   "metadata": {},
   "outputs": [],
   "source": []
  },
  {
   "cell_type": "code",
   "execution_count": null,
   "metadata": {},
   "outputs": [],
   "source": []
  },
  {
   "cell_type": "code",
   "execution_count": null,
   "metadata": {},
   "outputs": [],
   "source": []
  },
  {
   "cell_type": "code",
   "execution_count": 64,
   "metadata": {},
   "outputs": [],
   "source": [
    "import json"
   ]
  },
  {
   "cell_type": "code",
   "execution_count": 65,
   "metadata": {},
   "outputs": [],
   "source": [
    "    fake_data = [\n",
    "        {\n",
    "            'des': 'Union Station',\n",
    "            'dly': False,\n",
    "            'dstp': 6222,\n",
    "            'prdctdn': '8',\n",
    "            'prdtm': '20171109 15:28',\n",
    "            'rt': '151',\n",
    "            'rtdd': '151',\n",
    "            'rtdir': 'Southbound',\n",
    "            'stpid': '1066',\n",
    "            'stpnm': 'Lake Shore & Stratford',\n",
    "            'tablockid': '151 -517',\n",
    "            'tatripid': '266',\n",
    "            'tmstmp': '20171109 15:19',\n",
    "            'typ': 'A',\n",
    "            'vid': '4392',\n",
    "            'zone': ''\n",
    "        },\n",
    "        {\n",
    "            'des': 'Museum Campus',\n",
    "            'dly': False,\n",
    "            'dstp': 7865,\n",
    "            'prdctdn': '18',\n",
    "            'prdtm': '20171109 15:38',\n",
    "            'rt': '146',\n",
    "            'rtdd': '146',\n",
    "            'rtdir': 'Southbound',\n",
    "            'stpid': '1066',\n",
    "            'stpnm': 'Lake Shore & Stratford',\n",
    "            'tablockid': '146 -522',\n",
    "            'tatripid': '2196',\n",
    "            'tmstmp': '20171109 15:16',\n",
    "            'typ': 'A',\n",
    "            'vid': '4387',\n",
    "            'zone': ''\n",
    "        }\n",
    "    ]"
   ]
  },
  {
   "cell_type": "code",
   "execution_count": 66,
   "metadata": {},
   "outputs": [
    {
     "data": {
      "text/plain": [
       "'[{\"des\": \"Union Station\", \"dly\": false, \"dstp\": 6222, \"prdctdn\": \"8\", \"prdtm\": \"20171109 15:28\", \"rt\": \"151\", \"rtdd\": \"151\", \"rtdir\": \"Southbound\", \"stpid\": \"1066\", \"stpnm\": \"Lake Shore & Stratford\", \"tablockid\": \"151 -517\", \"tatripid\": \"266\", \"tmstmp\": \"20171109 15:19\", \"typ\": \"A\", \"vid\": \"4392\", \"zone\": \"\"}, {\"des\": \"Museum Campus\", \"dly\": false, \"dstp\": 7865, \"prdctdn\": \"18\", \"prdtm\": \"20171109 15:38\", \"rt\": \"146\", \"rtdd\": \"146\", \"rtdir\": \"Southbound\", \"stpid\": \"1066\", \"stpnm\": \"Lake Shore & Stratford\", \"tablockid\": \"146 -522\", \"tatripid\": \"2196\", \"tmstmp\": \"20171109 15:16\", \"typ\": \"A\", \"vid\": \"4387\", \"zone\": \"\"}]'"
      ]
     },
     "execution_count": 66,
     "metadata": {},
     "output_type": "execute_result"
    }
   ],
   "source": [
    "json.dumps(fake_data)"
   ]
  },
  {
   "cell_type": "code",
   "execution_count": null,
   "metadata": {},
   "outputs": [],
   "source": []
  },
  {
   "cell_type": "code",
   "execution_count": 67,
   "metadata": {},
   "outputs": [],
   "source": [
    "from unittest.mock import MagicMock"
   ]
  },
  {
   "cell_type": "code",
   "execution_count": 68,
   "metadata": {},
   "outputs": [],
   "source": [
    "mock_obj = MagicMock()"
   ]
  },
  {
   "cell_type": "code",
   "execution_count": 69,
   "metadata": {},
   "outputs": [
    {
     "data": {
      "text/plain": [
       "<MagicMock name='mock()' id='4592837464'>"
      ]
     },
     "execution_count": 69,
     "metadata": {},
     "output_type": "execute_result"
    }
   ],
   "source": [
    "mock_obj(url='http', params={'a': 'b', 'c': 'd'})"
   ]
  },
  {
   "cell_type": "code",
   "execution_count": 70,
   "metadata": {},
   "outputs": [
    {
     "data": {
      "text/plain": [
       "call(params={'a': 'b', 'c': 'd'}, url='http')"
      ]
     },
     "execution_count": 70,
     "metadata": {},
     "output_type": "execute_result"
    }
   ],
   "source": [
    "mock_obj.call_args"
   ]
  },
  {
   "cell_type": "code",
   "execution_count": 71,
   "metadata": {},
   "outputs": [
    {
     "ename": "NameError",
     "evalue": "name 'x' is not defined",
     "output_type": "error",
     "traceback": [
      "\u001b[0;31m---------------------------------------------------------------------------\u001b[0m",
      "\u001b[0;31mNameError\u001b[0m                                 Traceback (most recent call last)",
      "\u001b[0;32m<ipython-input-71-191ea9c3d109>\u001b[0m in \u001b[0;36m<module>\u001b[0;34m()\u001b[0m\n\u001b[0;32m----> 1\u001b[0;31m \u001b[0mtype\u001b[0m\u001b[0;34m(\u001b[0m\u001b[0mx\u001b[0m\u001b[0;34m)\u001b[0m\u001b[0;34m\u001b[0m\u001b[0m\n\u001b[0m",
      "\u001b[0;31mNameError\u001b[0m: name 'x' is not defined"
     ]
    }
   ],
   "source": [
    "type(x)"
   ]
  },
  {
   "cell_type": "code",
   "execution_count": 72,
   "metadata": {},
   "outputs": [],
   "source": [
    "args, kwargs = mock_obj.call_args_list[0]"
   ]
  },
  {
   "cell_type": "code",
   "execution_count": 73,
   "metadata": {},
   "outputs": [
    {
     "data": {
      "text/plain": [
       "dict_items([('a', 'b'), ('c', 'd')])"
      ]
     },
     "execution_count": 73,
     "metadata": {},
     "output_type": "execute_result"
    }
   ],
   "source": [
    "kwargs['params'].items()"
   ]
  },
  {
   "cell_type": "code",
   "execution_count": 74,
   "metadata": {},
   "outputs": [],
   "source": [
    "assert ('a', 'b') in kwargs['params'].items()"
   ]
  },
  {
   "cell_type": "code",
   "execution_count": 75,
   "metadata": {},
   "outputs": [],
   "source": [
    "assert ('c', 'd') in kwargs['params'].items()"
   ]
  },
  {
   "cell_type": "markdown",
   "metadata": {
    "collapsed": true
   },
   "source": [
    "---"
   ]
  },
  {
   "cell_type": "code",
   "execution_count": 76,
   "metadata": {},
   "outputs": [],
   "source": [
    "# standard library\n",
    "import datetime\n",
    "import json\n",
    "import math\n",
    "import os\n",
    "\n",
    "# other libraries\n",
    "import falcon\n",
    "import maya\n",
    "import requests"
   ]
  },
  {
   "cell_type": "code",
   "execution_count": 77,
   "metadata": {},
   "outputs": [],
   "source": [
    "CTA_BASE_URL = 'http://www.ctabustracker.com/bustime/api/v2/getpredictions'\n",
    "CTA_API_KEY = os.getenv('CTA_API_KEY', None)"
   ]
  },
  {
   "cell_type": "code",
   "execution_count": 115,
   "metadata": {},
   "outputs": [],
   "source": [
    "payload = {\n",
    "    'key': CTA_API_KEY,\n",
    "    'stpid': '106',\n",
    "    'format': 'json'\n",
    "}\n",
    "\n",
    "right_now = maya.MayaDT.from_datetime(datetime.datetime.now())"
   ]
  },
  {
   "cell_type": "code",
   "execution_count": 116,
   "metadata": {},
   "outputs": [],
   "source": [
    "r = requests.get(CTA_BASE_URL, params=payload)\n",
    "upcoming_buses = r.json().get('bustime-response', None).get('prd', None)"
   ]
  },
  {
   "cell_type": "code",
   "execution_count": 117,
   "metadata": {},
   "outputs": [
    {
     "data": {
      "text/plain": [
       "{'bustime-response': {'error': [{'msg': 'No data found for parameter',\n",
       "    'stpid': '106'}]}}"
      ]
     },
     "execution_count": 117,
     "metadata": {},
     "output_type": "execute_result"
    }
   ],
   "source": [
    "payload = {\n",
    "    'key': CTA_API_KEY,\n",
    "    'stpid': '106',\n",
    "    'format': 'json'\n",
    "}\n",
    "r.json()"
   ]
  },
  {
   "cell_type": "code",
   "execution_count": 119,
   "metadata": {},
   "outputs": [],
   "source": [
    "with open('cta_error_incorrect_stop_response.json', 'w') as outfile:\n",
    "    json.dump(r.json(), outfile)"
   ]
  },
  {
   "cell_type": "code",
   "execution_count": null,
   "metadata": {},
   "outputs": [],
   "source": []
  },
  {
   "cell_type": "code",
   "execution_count": 81,
   "metadata": {},
   "outputs": [],
   "source": [
    "upcoming_buses"
   ]
  },
  {
   "cell_type": "code",
   "execution_count": 120,
   "metadata": {},
   "outputs": [],
   "source": [
    "#\n",
    "CTA_BASE_URL = 'http://www.ctabustracker.com/bustime/api/v2/getpredictions1'\n",
    "r = requests.get(CTA_BASE_URL, params=payload)\n",
    "upcoming_buses = r.json().get('bustime-response', None).get('prd', None)"
   ]
  },
  {
   "cell_type": "code",
   "execution_count": 121,
   "metadata": {},
   "outputs": [
    {
     "data": {
      "text/plain": [
       "<Response [200]>"
      ]
     },
     "execution_count": 121,
     "metadata": {},
     "output_type": "execute_result"
    }
   ],
   "source": [
    "r"
   ]
  },
  {
   "cell_type": "code",
   "execution_count": 131,
   "metadata": {},
   "outputs": [
    {
     "data": {
      "text/plain": [
       "int"
      ]
     },
     "execution_count": 131,
     "metadata": {},
     "output_type": "execute_result"
    }
   ],
   "source": [
    "r.status_code"
   ]
  },
  {
   "cell_type": "code",
   "execution_count": 123,
   "metadata": {},
   "outputs": [
    {
     "data": {
      "text/plain": [
       "{'bustime-response': {'error': [{'msg': 'Unsupported function'}]}}"
      ]
     },
     "execution_count": 123,
     "metadata": {},
     "output_type": "execute_result"
    }
   ],
   "source": [
    "r.json()"
   ]
  },
  {
   "cell_type": "code",
   "execution_count": 125,
   "metadata": {},
   "outputs": [],
   "source": [
    "with open('cta_error_unsupported_function_response.json', 'w') as outfile:\n",
    "    json.dump(r.json(), outfile)"
   ]
  },
  {
   "cell_type": "code",
   "execution_count": 130,
   "metadata": {},
   "outputs": [
    {
     "data": {
      "text/plain": [
       "'404 Not Found'"
      ]
     },
     "execution_count": 130,
     "metadata": {},
     "output_type": "execute_result"
    }
   ],
   "source": [
    "falcon.HTTP_NOT_FOUND"
   ]
  },
  {
   "cell_type": "code",
   "execution_count": null,
   "metadata": {},
   "outputs": [],
   "source": []
  }
 ],
 "metadata": {
  "kernelspec": {
   "display_name": "Python 3",
   "language": "python",
   "name": "python3"
  },
  "language_info": {
   "codemirror_mode": {
    "name": "ipython",
    "version": 3
   },
   "file_extension": ".py",
   "mimetype": "text/x-python",
   "name": "python",
   "nbconvert_exporter": "python",
   "pygments_lexer": "ipython3",
   "version": "3.6.2"
  }
 },
 "nbformat": 4,
 "nbformat_minor": 2
}
